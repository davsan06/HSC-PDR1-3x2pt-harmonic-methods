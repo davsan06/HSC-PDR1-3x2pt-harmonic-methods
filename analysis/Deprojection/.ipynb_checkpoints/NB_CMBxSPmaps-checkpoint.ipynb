{
 "cells": [
  {
   "cell_type": "code",
   "execution_count": null,
   "id": "cc22c58c-0730-4239-82a6-93d452cc89c0",
   "metadata": {},
   "outputs": [],
   "source": []
  }
 ],
 "metadata": {
  "kernelspec": {
   "display_name": "",
   "name": ""
  },
  "language_info": {
   "name": ""
  }
 },
 "nbformat": 4,
 "nbformat_minor": 5
}
