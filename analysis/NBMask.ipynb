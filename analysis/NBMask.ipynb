{
 "cells": [
  {
   "cell_type": "code",
   "execution_count": 2,
   "id": "e8594127-9d23-41df-9f96-e3f15b188233",
   "metadata": {
    "tags": []
   },
   "outputs": [],
   "source": [
    "from astropy.io import fits\n",
    "import os\n",
    "import matplotlib.pyplot as plt\n",
    "import numpy as np\n",
    "from astropy.coordinates import SkyCoord, Galactic\n",
    "import healpy as hp\n",
    "import sys\n",
    "sys.path.append('/pscratch/sd/d/davidsan/HSC-PDR1-3x2pt-harmonic-methods/scripts/')\n",
    "import HSCMeasurementUtils\n",
    "import healsparse"
   ]
  },
  {
   "cell_type": "code",
   "execution_count": 3,
   "id": "c935ef3f-05aa-4b38-bad4-b5a9c4637891",
   "metadata": {
    "tags": []
   },
   "outputs": [],
   "source": [
    "path = '/global/cfs/projectdirs/lsst/groups/LSS/HSC_reanalysis/data_javi/lens_sample_2023_pdr1'\n",
    "path_save = '/pscratch/sd/d/davidsan/HSC-PDR1-3x2pt-harmonic-methods/data/mask/'"
   ]
  },
  {
   "cell_type": "code",
   "execution_count": 4,
   "id": "70270e56-edd6-48bd-83d1-71786b7a6678",
   "metadata": {
    "tags": []
   },
   "outputs": [
    {
     "name": "stdout",
     "output_type": "stream",
     "text": [
      "###########################\n",
      "Processing GAMA09H\n",
      "###########################\n"
     ]
    },
    {
     "name": "stdout",
     "output_type": "stream",
     "text": [
      "Number of observed objects = 6496607\n",
      "Number of stars = 1128219 (17.0%)\n",
      ">> Mask type: star\n"
     ]
    },
    {
     "data": {
      "image/png": "[encoded data removed]",
      "text/plain": [
       "<Figure size 850x540 with 2 Axes>"
      ]
     },
     "metadata": {},
     "output_type": "display_data"
    },
    {
     "name": "stderr",
     "output_type": "stream",
     "text": [
      "setting the output map dtype to [dtype('float64')]\n"
     ]
    },
    {
     "name": "stdout",
     "output_type": "stream",
     "text": [
      ">> Saving in Healpix format\n",
      ">> Saving in Healsparse format\n"
     ]
    }
   ],
   "source": [
    "# Do we want to plot the field with stars and galaxies?\n",
    "plot_field = True\n",
    "plot_footprint = False\n",
    "\n",
    "# Which kind of mask?\n",
    "mask_type = 'galaxy' # 'galaxy' or 'star' or 'masked_fraction'\n",
    "# 'galaxy' = 1 if there is a galaxy, 0 otherwise\n",
    "# 'star' = 1 if there is a star, 0 otherwise\n",
    "# 'masked_fraction' = 1 - 1 / number of galaxies per pixel\n",
    "\n",
    "# Resolution of the map\n",
    "nside = 4096\n",
    "\n",
    "# HSC Fields\n",
    "fname_list = ['gama09h_pdr1.fits']#, 'gama15h_pdr1.fits', 'wide12h_pdr1.fits', 'xmm_pdr1.fits', 'vvds_pdr1.fits']\n",
    "label_list = ['gama09h', 'gama15h']#, 'wide12h', 'xmm', 'vvds']\n",
    "\n",
    "for fname, label in zip(fname_list, label_list):\n",
    "    print(\"###########################\")\n",
    "    print(f\"Processing {label.upper()}\")\n",
    "    print(\"###########################\")\n",
    "    # Filename of the specific field\n",
    "    fname = os.path.join(path, fname)\n",
    "    # Read the data\n",
    "    hdul = fits.open(fname)\n",
    "    # Data is in the second extension\n",
    "    data = hdul[1].data\n",
    "    # Header\n",
    "    header = hdul[1].header\n",
    "    # Select stars \n",
    "    stars_cond = data['iclassification_extendedness'] == 0\n",
    "    # Extract RA and Dec    \n",
    "    ra = data['ra']\n",
    "    print(f'Number of observed objects = {len(ra)}')\n",
    "    dec = data['dec']\n",
    "    # Keep information from stars\n",
    "    ra_stars = ra[stars_cond]\n",
    "    dec_stars = dec[stars_cond]\n",
    "    print(f'Number of stars = {sum(stars_cond)} ({np.round(sum(stars_cond) / len(ra),2)*100}%)')\n",
    "    # Create a SkyCoord object with RA and Dec\n",
    "    pix_indices_stars = HSCMeasurementUtils.RaDecToIndex(ra_deg = ra_stars,\n",
    "                                                        dec_deg = dec_stars,\n",
    "                                                        nside = nside)\n",
    "    pix_indices_galaxy = HSCMeasurementUtils.RaDecToIndex(ra_deg = ra,\n",
    "                                                         dec_deg = dec,\n",
    "                                                         nside = nside)\n",
    "    # Reference to copy header\n",
    "    fname_ref = '/global/cfs/projectdirs/lsst/groups/LSS/HSC_data/masked_fraction_nside4096_gama09hcorr_nohectomap.hs'\n",
    "    mask = healsparse.HealSparseMap.read(fname_ref)\n",
    "    mask = np.ones(12 * nside ** 2) * hp.UNSEEN \n",
    "    # Compute the number of pixels corresponding to the resolution\n",
    "    npix = 12 * nside ** 2\n",
    "    if mask_type == 'galaxy':\n",
    "        print('>> Mask type: galaxy')\n",
    "        # Simple version\n",
    "        mask[pix_indices_galaxy] = 1\n",
    "    elif mask_type == 'star':\n",
    "        print('>> Mask type: star')\n",
    "        # Simple version\n",
    "        mask[pix_indices_galaxy] = 1\n",
    "        mask[pix_indices_stars] = 0\n",
    "    elif mask_type == 'masked_fraction':\n",
    "        print('>> Mask type: masked fraction')\n",
    "        # Compute the number of galaxies per pixel\n",
    "        map_galaxy = np.bincount(pix_indices_galaxy, minlength=npix)\n",
    "        # Compute the inverse of the number of galaxies per pixel\n",
    "        mask = 1 - 1 / map_galaxy\n",
    "    # Reorder pixels to nest ordering\n",
    "    mask = hp.reorder(mask, r2n=True)\n",
    "\n",
    "    if plot_field == True:\n",
    "        hp.mollview(mask, title=label.upper(), nest=True)\n",
    "        plt.show()\n",
    "        plt.close()\n",
    "    if plot_footprint == True:\n",
    "        # Plot field with stars and galaxies\n",
    "        plt.plot(ra, dec, 'k.', markersize=0.01,label='Galaxies')\n",
    "        plt.plot(ra_stars, dec_stars, 'r.', markersize=0.01,label='Stars')\n",
    "        # Title is the label in capital letters\n",
    "        plt.title(label.upper())\n",
    "        plt.xlabel('R.A. [deg.]')\n",
    "        plt.ylabel('Dec. [deg.]')\n",
    "        plt.legend(frameon=False)\n",
    "        plt.show()\n",
    "        plt.close()\n",
    "    # Save\n",
    "    print('>> Saving in Healpix format')\n",
    "    path_aux = os.path.join(path_save,mask_type)\n",
    "    # Check if path_aux exists and create it if not\n",
    "    if not os.path.exists(path_aux):\n",
    "        os.makedirs(path_aux)\n",
    "    hp.write_map(os.path.join(path_aux, f'mask_{mask_type}_nside{nside}.fits'),\n",
    "                 mask,\n",
    "                 nest=True,\n",
    "                 overwrite=True)\n",
    "    # To create a new map, the resolutions and datatype must be specified\n",
    "    nside_coverage = 32\n",
    "    nside_sparse = 4096\n",
    "    # Initialize empty Healsparse map\n",
    "    map3 = healsparse.HealSparseMap.make_empty(nside_coverage, nside_sparse, np.float64)\n",
    "    # Update values \n",
    "    map3.update_values_pix(np.arange(12*nside_sparse**2), mask, nest=True)\n",
    "    # In healsparse format\n",
    "    print('>> Saving in Healsparse format')\n",
    "    map3.write(os.path.join(path_aux,f'mask_{mask_type}_nside{nside}_{label}.hs'), clobber=True)"
   ]
  },
  {
   "cell_type": "code",
   "execution_count": 34,
   "id": "74046124",
   "metadata": {},
   "outputs": [
    {
     "data": {
      "text/plain": [
       "False"
      ]
     },
     "execution_count": 34,
     "metadata": {},
     "output_type": "execute_result"
    }
   ],
   "source": [
    "np.any(mask == hp.UNSEEN)"
   ]
  },
  {
   "cell_type": "code",
   "execution_count": 33,
   "id": "da7cb3fe",
   "metadata": {},
   "outputs": [
    {
     "data": {
      "text/plain": [
       "201326592"
      ]
     },
     "execution_count": 33,
     "metadata": {},
     "output_type": "execute_result"
    }
   ],
   "source": [
    "12 * 4096**2"
   ]
  },
  {
   "cell_type": "code",
   "execution_count": 27,
   "id": "fa89b645",
   "metadata": {},
   "outputs": [],
   "source": [
    "fname_ref = '/global/cfs/projectdirs/lsst/groups/LSS/HSC_data/masked_fraction_nside4096_gama09hcorr_nohectomap.hs'\n",
    "mask = healsparse.HealSparseMap.read(fname_ref)\n",
    "# transform to healpix\n",
    "mask = mask.generate_healpix_map(nside=2048)\n"
   ]
  },
  {
   "cell_type": "code",
   "execution_count": 30,
   "id": "58406477",
   "metadata": {},
   "outputs": [
    {
     "data": {
      "image/png": "[encoded data removed]",
      "text/plain": [
       "<Figure size 850x540 with 2 Axes>"
      ]
     },
     "metadata": {},
     "output_type": "display_data"
    }
   ],
   "source": [
    "hp.mollview(mask, nest=True)"
   ]
  },
  {
   "cell_type": "code",
   "execution_count": null,
   "id": "8ce31e9b",
   "metadata": {},
   "outputs": [],
   "source": []
  }
 ],
 "metadata": {
  "kernelspec": {
   "display_name": "desc-python-bleed",
   "language": "python",
   "name": "desc-python-bleed"
  },
  "language_info": {
   "codemirror_mode": {
    "name": "ipython",
    "version": 3
   },
   "file_extension": ".py",
   "mimetype": "text/x-python",
   "name": "python",
   "nbconvert_exporter": "python",
   "pygments_lexer": "ipython3",
   "version": "3.10.12"
  }
 },
 "nbformat": 4,
 "nbformat_minor": 5
}
