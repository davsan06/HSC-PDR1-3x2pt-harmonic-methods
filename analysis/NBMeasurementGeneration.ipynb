{
 "cells": [
  {
   "cell_type": "code",
   "execution_count": 1,
   "metadata": {
    "tags": []
   },
   "outputs": [],
   "source": [
    "import sys\n",
    "import os\n",
    "sys.path.append('/pscratch/sd/d/davidsan/HSC-PDR1-3x2pt-harmonic-methods/scripts/')\n",
    "import HSCMeasurementUtils as hmu"
   ]
  },
  {
   "cell_type": "markdown",
   "metadata": {},
   "source": [
    "### Hikage et al. shear data vector"
   ]
  },
  {
   "cell_type": "code",
   "execution_count": 2,
   "metadata": {},
   "outputs": [
    {
     "name": "stdout",
     "output_type": "stream",
     "text": [
      "<< Generating Hikage et al. cosmic shear data vector in Sacc format>>\n",
      ">>  Source n(z) - Hamana et al.\n",
      "0 0\n",
      "1 0\n",
      "1 1\n",
      "2 0\n",
      "2 1\n",
      "2 2\n",
      "3 0\n",
      "3 1\n",
      "3 2\n",
      "3 3\n"
     ]
    },
    {
     "data": {
      "text/plain": [
       "<sacc.sacc.Sacc at 0x7f917bf4f730>"
      ]
     },
     "execution_count": 2,
     "metadata": {},
     "output_type": "execute_result"
    }
   ],
   "source": [
    "hmu.Generate_Hikage_Shear_Cells()"
   ]
  },
  {
   "cell_type": "markdown",
   "metadata": {
    "tags": []
   },
   "source": [
    "## TXPipe: generating our data vector"
   ]
  },
  {
   "cell_type": "markdown",
   "metadata": {},
   "source": [
    "### Inverse Variance Weighting signal\n",
    "Source sample - HSC S16A\n",
    "Lens sample -  HSC DR1"
   ]
  },
  {
   "cell_type": "code",
   "execution_count": 7,
   "metadata": {
    "tags": []
   },
   "outputs": [],
   "source": [
    "path = '/pscratch/sd/d/davidsan/txpipe-reanalysis/hsc/outputs/'\n",
    "sacc_list = [# GAMA09H\n",
    "             os.path.join(path,'outputs_gama09h/clustering_HSCPDR1_SNRimagmask_24102023/summary_statistics_fourier.sacc'),\n",
    "             # # GAMA15H\n",
    "             os.path.join(path, 'outputs_gama15h/clustering_HSCPDR1_SNRimagmask_24102023/summary_statistics_fourier.sacc'),\n",
    "             # # VVDS\n",
    "             os.path.join(path, 'outputs_vvds/clustering_HSCPDR1_SNRimagmask_24102023/summary_statistics_fourier.sacc'),\n",
    "             # # WIDE12H\n",
    "             os.path.join(path, 'outputs_wide12h/clustering_HSCPDR1_SNRimagmask_24102023/summary_statistics_fourier.sacc'),\n",
    "             # # XMM\n",
    "             os.path.join(path, 'outputs_xmm/clustering_HSCPDR1_SNRimagmask_24102023/summary_statistics_fourier.sacc')\n",
    "             ]"
   ]
  },
  {
   "cell_type": "code",
   "execution_count": 8,
   "metadata": {
    "tags": []
   },
   "outputs": [
    {
     "name": "stdout",
     "output_type": "stream",
     "text": [
      "<< Combined TXPipe data vector generation >>\n",
      ">>  Source n(z) - Hamana et al.\n",
      ">> Lens n(z) - This work\n",
      ">> Combining following Inverse Variance Method\n",
      ">> Adding Galaxy Clustering C_ells\n",
      "bin (1, 1) - negative points 0\n",
      "bin (2, 1) - negative points 0\n",
      "bin (2, 2) - negative points 0\n",
      "bin (3, 1) - negative points 7\n",
      "bin (3, 2) - negative points 1\n",
      "bin (3, 3) - negative points 0\n",
      "bin (4, 1) - negative points 6\n",
      "bin (4, 2) - negative points 4\n",
      "bin (4, 3) - negative points 0\n",
      "bin (4, 4) - negative points 0\n",
      ">> Adding Gamma_t C_ells\n",
      "bin (1, 1) - negative points 0\n",
      "bin (1, 2) - negative points 3\n",
      "bin (1, 3) - negative points 4\n",
      "bin (1, 4) - negative points 3\n",
      "bin (2, 1) - negative points 0\n",
      "bin (2, 2) - negative points 0\n",
      "bin (2, 3) - negative points 6\n",
      "bin (2, 4) - negative points 7\n",
      "bin (3, 1) - negative points 0\n",
      "bin (3, 2) - negative points 0\n",
      "bin (3, 3) - negative points 2\n",
      "bin (3, 4) - negative points 5\n",
      "bin (4, 1) - negative points 0\n",
      "bin (4, 2) - negative points 0\n",
      "bin (4, 3) - negative points 0\n",
      "bin (4, 4) - negative points 2\n",
      ">> Adding Cosmic Shear C_ells\n",
      "bin (1, 1) - negative points 0\n",
      "bin (2, 1) - negative points 0\n",
      "bin (2, 2) - negative points 0\n",
      "bin (3, 1) - negative points 0\n",
      "bin (3, 2) - negative points 0\n",
      "bin (3, 3) - negative points 0\n",
      "bin (4, 1) - negative points 0\n",
      "bin (4, 2) - negative points 0\n",
      "bin (4, 3) - negative points 0\n",
      "bin (4, 4) - negative points 0\n",
      ">> Adding covariance matrix\n",
      "Singular total covmat\n",
      "Singular total covmat\n",
      "Singular total covmat\n",
      "Singular total covmat\n",
      "Singular total covmat\n",
      ">> Applying Hikage et al. shear cuts (300 < ell < 1900)\n",
      "-/pscratch/sd/d/davidsan/txpipe-reanalysis/hsc/outputs/outputs_gama09h/clustering_HSCPDR1_SNRimagmask_24102023/summary_statistics_fourier_HikageShearSC.sacc\n",
      "Number of data points before cuts:  738\n",
      "Shape of the covariance before cuts:  (738, 738)\n",
      "Number of data points after cuts:  708\n",
      "Shape of the covariance after cuts:  (708, 708)\n",
      ">> >> Saving ...\n"
     ]
    },
    {
     "name": "stderr",
     "output_type": "stream",
     "text": [
      "WARNING: VerifyWarning: Keyword name 'META_n_ell_coupled' is greater than 8 characters or contains characters not allowed by the FITS standard; a HIERARCH card will be created. [astropy.io.fits.card]\n"
     ]
    },
    {
     "name": "stdout",
     "output_type": "stream",
     "text": [
      "-/pscratch/sd/d/davidsan/txpipe-reanalysis/hsc/outputs/outputs_gama15h/clustering_HSCPDR1_SNRimagmask_24102023/summary_statistics_fourier_HikageShearSC.sacc\n",
      "Number of data points before cuts:  738\n",
      "Shape of the covariance before cuts:  (738, 738)\n",
      "Number of data points after cuts:  708\n",
      "Shape of the covariance after cuts:  (708, 708)\n",
      ">> >> Saving ...\n"
     ]
    },
    {
     "name": "stderr",
     "output_type": "stream",
     "text": [
      "WARNING: VerifyWarning: Keyword name 'META_n_ell_coupled' is greater than 8 characters or contains characters not allowed by the FITS standard; a HIERARCH card will be created. [astropy.io.fits.card]\n"
     ]
    },
    {
     "name": "stdout",
     "output_type": "stream",
     "text": [
      "-/pscratch/sd/d/davidsan/txpipe-reanalysis/hsc/outputs/outputs_vvds/clustering_HSCPDR1_SNRimagmask_24102023/summary_statistics_fourier_HikageShearSC.sacc\n",
      "Number of data points before cuts:  738\n",
      "Shape of the covariance before cuts:  (738, 738)\n",
      "Number of data points after cuts:  708\n",
      "Shape of the covariance after cuts:  (708, 708)\n",
      ">> >> Saving ...\n"
     ]
    },
    {
     "name": "stderr",
     "output_type": "stream",
     "text": [
      "WARNING: VerifyWarning: Keyword name 'META_n_ell_coupled' is greater than 8 characters or contains characters not allowed by the FITS standard; a HIERARCH card will be created. [astropy.io.fits.card]\n"
     ]
    },
    {
     "name": "stdout",
     "output_type": "stream",
     "text": [
      "-/pscratch/sd/d/davidsan/txpipe-reanalysis/hsc/outputs/outputs_wide12h/clustering_HSCPDR1_SNRimagmask_24102023/summary_statistics_fourier_HikageShearSC.sacc\n",
      "Number of data points before cuts:  738\n",
      "Shape of the covariance before cuts:  (738, 738)\n",
      "Number of data points after cuts:  708\n",
      "Shape of the covariance after cuts:  (708, 708)\n",
      ">> >> Saving ...\n"
     ]
    },
    {
     "name": "stderr",
     "output_type": "stream",
     "text": [
      "WARNING: VerifyWarning: Keyword name 'META_n_ell_coupled' is greater than 8 characters or contains characters not allowed by the FITS standard; a HIERARCH card will be created. [astropy.io.fits.card]\n"
     ]
    },
    {
     "name": "stdout",
     "output_type": "stream",
     "text": [
      "-/pscratch/sd/d/davidsan/txpipe-reanalysis/hsc/outputs/outputs_xmm/clustering_HSCPDR1_SNRimagmask_24102023/summary_statistics_fourier_HikageShearSC.sacc\n",
      "Number of data points before cuts:  738\n",
      "Shape of the covariance before cuts:  (738, 738)\n",
      "Number of data points after cuts:  708\n",
      "Shape of the covariance after cuts:  (708, 708)\n",
      ">> >> Saving ...\n"
     ]
    },
    {
     "name": "stderr",
     "output_type": "stream",
     "text": [
      "WARNING: VerifyWarning: Keyword name 'META_n_ell_coupled' is greater than 8 characters or contains characters not allowed by the FITS standard; a HIERARCH card will be created. [astropy.io.fits.card]\n"
     ]
    },
    {
     "name": "stdout",
     "output_type": "stream",
     "text": [
      ">> File does not exist\n",
      ">> File does not exist\n"
     ]
    },
    {
     "data": {
      "text/plain": [
       "<sacc.sacc.Sacc at 0x7f04419413c0>"
      ]
     },
     "execution_count": 8,
     "metadata": {},
     "output_type": "execute_result"
    }
   ],
   "source": [
    "hmu.Generate_TXPipe_CombMeas_Cells(sacc_list = sacc_list,\n",
    "                                   meta_list = None,\n",
    "                                   combmethod = 'ivw',\n",
    "                                   path_to_save = '/pscratch/sd/d/davidsan/HSC-PDR1-3x2pt-harmonic-methods/data/harmonic/txpipe/source_s16a_lens_dr1/combined', \n",
    "                                   label = 'lens_dr1',\n",
    "                                   shear_cuts=True)"
   ]
  },
  {
   "cell_type": "markdown",
   "metadata": {},
   "source": [
    "### All-fields signal\n",
    "Measured over all the five patches (no HECTOMAP) at the same time.\n",
    "\n",
    "Source sample - HSC S16A\n",
    "Lens sample - HSC DR1"
   ]
  },
  {
   "cell_type": "code",
   "execution_count": 3,
   "metadata": {},
   "outputs": [
    {
     "name": "stdout",
     "output_type": "stream",
     "text": [
      "<< Combined TXPipe data vector generation >>\n",
      "  Initializing All-fields summary data vector\n"
     ]
    },
    {
     "name": "stdout",
     "output_type": "stream",
     "text": [
      ">>  Source n(z) - Hamana et al.\n",
      ">> Lens n(z): HSC method - pz_mc_eab\n",
      ">> HSC methods: Lens n(z) - This work\n",
      "   Lens bin 1\n",
      "   Lens bin 2\n",
      "   Lens bin 3\n",
      "   Lens bin 4\n",
      ">> Saving All-fields data vector\n",
      ">> Applying Hikage et al. shear cuts (300 < ell < 1900)\n",
      "-/pscratch/sd/d/davidsan/HSC-PDR1-3x2pt-harmonic-methods/data/harmonic/txpipe/source_s16a_lens_dr1/all-fields/dndz/summary_statistics_fourier_all_SourcesS16A_LensesDR1_pz_mc_eab_HikageShearSC.sacc\n",
      "Number of data points before cuts:  738\n",
      "Shape of the covariance before cuts:  (738, 738)\n",
      "Number of data points after cuts:  708\n",
      "Shape of the covariance after cuts:  (708, 708)\n",
      ">> >> Saving ...\n",
      ">> Applying Hikage et al. shear cuts (300 < ell < 1900)\n",
      ">> File does not exist\n",
      ">> File does not exist\n",
      "<< Combined TXPipe data vector generation >>\n",
      "  Initializing All-fields summary data vector\n",
      ">>  Source n(z) - Hamana et al.\n",
      ">> Lens n(z): HSC method - pz_mc_frz\n",
      ">> HSC methods: Lens n(z) - This work\n",
      "   Lens bin 1\n",
      "   Lens bin 2\n",
      "   Lens bin 3\n",
      "   Lens bin 4\n",
      ">> Saving All-fields data vector\n",
      ">> Applying Hikage et al. shear cuts (300 < ell < 1900)\n",
      "-/pscratch/sd/d/davidsan/HSC-PDR1-3x2pt-harmonic-methods/data/harmonic/txpipe/source_s16a_lens_dr1/all-fields/dndz/summary_statistics_fourier_all_SourcesS16A_LensesDR1_pz_mc_frz_HikageShearSC.sacc\n",
      "Number of data points before cuts:  738\n",
      "Shape of the covariance before cuts:  (738, 738)\n",
      "Number of data points after cuts:  708\n",
      "Shape of the covariance after cuts:  (708, 708)\n",
      ">> >> Saving ...\n",
      ">> Applying Hikage et al. shear cuts (300 < ell < 1900)\n",
      ">> File does not exist\n",
      ">> File does not exist\n",
      "<< Combined TXPipe data vector generation >>\n",
      "  Initializing All-fields summary data vector\n",
      ">>  Source n(z) - Hamana et al.\n",
      ">> Lens n(z): HSC method - pz_mc_nnz\n",
      ">> HSC methods: Lens n(z) - This work\n",
      "   Lens bin 1\n",
      "   Lens bin 2\n",
      "   Lens bin 3\n",
      "   Lens bin 4\n",
      ">> Saving All-fields data vector\n",
      ">> Applying Hikage et al. shear cuts (300 < ell < 1900)\n",
      "-/pscratch/sd/d/davidsan/HSC-PDR1-3x2pt-harmonic-methods/data/harmonic/txpipe/source_s16a_lens_dr1/all-fields/dndz/summary_statistics_fourier_all_SourcesS16A_LensesDR1_pz_mc_nnz_HikageShearSC.sacc\n",
      "Number of data points before cuts:  738\n",
      "Shape of the covariance before cuts:  (738, 738)\n",
      "Number of data points after cuts:  708\n",
      "Shape of the covariance after cuts:  (708, 708)\n",
      ">> >> Saving ...\n",
      ">> Applying Hikage et al. shear cuts (300 < ell < 1900)\n",
      ">> File does not exist\n",
      ">> File does not exist\n"
     ]
    }
   ],
   "source": [
    "# Generating data vectors with different pz methods for the lenses (Ephor_AB is the fiducial)\n",
    "pz_method_array = ['pz_mc_eab', 'pz_mc_frz', 'pz_mc_nnz']\n",
    "\n",
    "for pz_method in pz_method_array:\n",
    "    hmu.Generate_TXPipe_CombMeas_Cells(sacc_list = [], \n",
    "                                        meta_list = [],\n",
    "                                        combmethod = 'all',\n",
    "                                        path_to_save = '/pscratch/sd/d/davidsan/HSC-PDR1-3x2pt-harmonic-methods/data/harmonic/txpipe/source_s16a_lens_dr1/all-fields/dndz',\n",
    "                                        label = 'SourcesS16A_LensesDR1',\n",
    "                                        pz_method = pz_method,\n",
    "                                        shear_cuts=True)"
   ]
  },
  {
   "cell_type": "code",
   "execution_count": null,
   "metadata": {},
   "outputs": [],
   "source": []
  }
 ],
 "metadata": {
  "kernelspec": {
   "display_name": "desc-python-bleed",
   "language": "python",
   "name": "desc-python-bleed"
  },
  "language_info": {
   "codemirror_mode": {
    "name": "ipython",
    "version": 3
   },
   "file_extension": ".py",
   "mimetype": "text/x-python",
   "name": "python",
   "nbconvert_exporter": "python",
   "pygments_lexer": "ipython3",
   "version": "3.10.12"
  }
 },
 "nbformat": 4,
 "nbformat_minor": 4
}
