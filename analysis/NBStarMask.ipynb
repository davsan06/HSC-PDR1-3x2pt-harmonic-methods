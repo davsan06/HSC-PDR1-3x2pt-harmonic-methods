{
 "cells": [
  {
   "cell_type": "code",
   "execution_count": 6,
   "id": "e8594127-9d23-41df-9f96-e3f15b188233",
   "metadata": {
    "tags": []
   },
   "outputs": [],
   "source": [
    "from astropy.io import fits\n",
    "import os\n",
    "import matplotlib.pyplot as plt\n",
    "import numpy as np\n",
    "from astropy.coordinates import SkyCoord, Galactic\n",
    "import healpy as hp\n",
    "import sys\n",
    "sys.path.append('/pscratch/sd/d/davidsan/HSC-PDR1-3x2pt-harmonic-methods/scripts/')\n",
    "import HSCMeasurementUtils\n",
    "import healsparse"
   ]
  },
  {
   "cell_type": "code",
   "execution_count": 7,
   "id": "c935ef3f-05aa-4b38-bad4-b5a9c4637891",
   "metadata": {
    "tags": []
   },
   "outputs": [],
   "source": [
    "path = '/global/cfs/projectdirs/lsst/groups/LSS/HSC_reanalysis/data_javi/lens_sample_2023_pdr1'\n",
    "path_save = '/pscratch/sd/d/davidsan/HSC-PDR1-3x2pt-harmonic-methods/data/mask/'"
   ]
  },
  {
   "cell_type": "code",
   "execution_count": null,
   "id": "70270e56-edd6-48bd-83d1-71786b7a6678",
   "metadata": {
    "tags": []
   },
   "outputs": [
    {
     "name": "stdout",
     "output_type": "stream",
     "text": [
      "gama09h_pdr1.fits\n",
      "Number of observed objects = 6496607\n",
      "Number of stars = 1128219 (0.17366280583079752)\n"
     ]
    },
    {
     "data": {
      "image/png": "[encoded data removed]",
      "text/plain": [
       "<Figure size 850x540 with 2 Axes>"
      ]
     },
     "metadata": {},
     "output_type": "display_data"
    },
    {
     "name": "stderr",
     "output_type": "stream",
     "text": [
      "setting the output map dtype to [dtype('float64')]\n"
     ]
    },
    {
     "name": "stdout",
     "output_type": "stream",
     "text": [
      "gama15h_pdr1.fits\n"
     ]
    }
   ],
   "source": [
    "nside = 4096\n",
    "\n",
    "fname_list = ['gama09h_pdr1.fits', 'gama15h_pdr1.fits', 'wide12h_pdr1.fits', 'xmm_pdr1.fits', 'vvds_pdr1.fits']\n",
    "label_list = ['gama09h', 'gama15h', 'wide12h', 'xmm', 'vvds']\n",
    "\n",
    "for fname, label in zip(fname_list, label_list):\n",
    "    print(fname)\n",
    "    fname = os.path.join(path, fname)\n",
    "    hdul = fits.open(fname)\n",
    "    data = hdul[1].data\n",
    "    header = hdul[1].header\n",
    "    \n",
    "    stars_cond = data['iclassification_extendedness'] == 0\n",
    "    no_stars_cond = (data['iclassification_extendedness'] != 0) * (~np.isnan(data['iclassification_extendedness']))\n",
    "    \n",
    "    ra = data['ra']\n",
    "    print(f'Number of observed objects = {len(ra)}')\n",
    "    dec = data['dec']\n",
    "\n",
    "    ra_stars = ra[stars_cond]\n",
    "    print(f'Number of stars = {sum(stars_cond)} ({sum(stars_cond) / len(ra)})')\n",
    "    dec_stars = dec[stars_cond]\n",
    "\n",
    "    ra_no_stars = ra[no_stars_cond]\n",
    "    dec_no_stars = dec[no_stars_cond]\n",
    "    \n",
    "    # Create a SkyCoord object with RA and Dec\n",
    "    pix_indices = HSCMeasurementUtils.RaDecToIndex(ra_deg = ra_stars,\n",
    "                                                   dec_deg = dec_stars,\n",
    "                                                   nside = nside)\n",
    "    mask = np.ones(12 * nside ** 2)\n",
    "    mask[pix_indices] *= hp.UNSEEN\n",
    "    hp.mollview(mask, nest=False)\n",
    "    plt.show()\n",
    "    plt.close()\n",
    "    # Save\n",
    "    hp.write_map(os.path.join(path_save,f'masked_fraction_nside{nside}_{label}.fits'), mask,overwrite=True)\n",
    "\n",
    "    # To create a new map, the resolutions and datatype must be specified\n",
    "    nside_coverage = 32\n",
    "    nside_sparse = 4096\n",
    "    map3 = healsparse.HealSparseMap.make_empty(nside_coverage, nside_sparse, np.float64)\n",
    "    map3.update_values_pix(np.arange(12*nside_sparse**2), mask, nest=True)\n",
    "    # In healsparse format\n",
    "    map3.write(os.path.join(path_save,f'masked_fraction_nside4096_{label}.hs'), clobber=True)"
   ]
  },
  {
   "cell_type": "code",
   "execution_count": null,
   "id": "cf21e9b2-fb8b-4203-b8ad-af1aad8794ef",
   "metadata": {},
   "outputs": [],
   "source": []
  }
 ],
 "metadata": {
  "kernelspec": {
   "display_name": "desc-python-bleed",
   "language": "python",
   "name": "desc-python-bleed"
  },
  "language_info": {
   "codemirror_mode": {
    "name": "ipython",
    "version": 3
   },
   "file_extension": ".py",
   "mimetype": "text/x-python",
   "name": "python",
   "nbconvert_exporter": "python",
   "pygments_lexer": "ipython3",
   "version": "3.10.12"
  }
 },
 "nbformat": 4,
 "nbformat_minor": 5
}
