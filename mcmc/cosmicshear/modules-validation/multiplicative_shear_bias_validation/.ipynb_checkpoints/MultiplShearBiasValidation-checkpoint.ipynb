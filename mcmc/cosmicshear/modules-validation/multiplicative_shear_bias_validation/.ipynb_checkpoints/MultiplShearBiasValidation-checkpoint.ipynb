{
 "cells": [
  {
   "cell_type": "code",
   "execution_count": 1,
   "id": "be283bd2-18d4-45db-92f8-6f9825165823",
   "metadata": {},
   "outputs": [],
   "source": [
    "import os\n",
    "import numpy as np"
   ]
  },
  {
   "cell_type": "markdown",
   "id": "23b87fed-4298-44cc-b585-1f4ee407474f",
   "metadata": {},
   "source": [
    "## Validating the standard multiplicative shear bias\n",
    "\n",
    "Valiation of the multiplicative shear bias which was already available on Firecrown.\n",
    "\n",
    "$C^{i,j}_\\ell \\to (1+\\Delta m)^2 C^{i,j}_\\ell$\n",
    "\n",
    "in this example, $\\Delta m = 1.0$, so we expect, $C^{multi} / C^{null} = 4$"
   ]
  },
  {
   "cell_type": "code",
   "execution_count": 2,
   "id": "2fb6cb8b-46b4-4971-9242-176ca6083bfc",
   "metadata": {},
   "outputs": [],
   "source": [
    "path_null = '/global/cscratch1/sd/davidsan/new_firecrown/firecrown/examples/hsc_3x2pt/cosmicshear/multiplicative_shear_bias_validation/cosmicshear-null-multi/data_vector/'\n",
    "path_multi = '/global/cscratch1/sd/davidsan/new_firecrown/firecrown/examples/hsc_3x2pt/cosmicshear/multiplicative_shear_bias_validation/cosmicshear-multi1/data_vector/'"
   ]
  },
  {
   "cell_type": "code",
   "execution_count": 43,
   "id": "6fe26b8c-9a78-43e3-81a8-1be63b7f92f0",
   "metadata": {},
   "outputs": [],
   "source": [
    "cl_null = np.loadtxt(os.path.join(path_null, 'theory_galaxy_shear_cl_ee_source_2_source_2.txt'))\n",
    "cl_multi = np.loadtxt(os.path.join(path_multi, 'theory_galaxy_shear_cl_ee_source_2_source_2.txt'))"
   ]
  },
  {
   "cell_type": "code",
   "execution_count": 44,
   "id": "d4dfcf43-dcda-46ac-8a0e-450fabf5f4f0",
   "metadata": {},
   "outputs": [
    {
     "data": {
      "text/plain": [
       "array([3.78960382e-10, 2.25335583e-10, 1.42520944e-10, 1.02771961e-10,\n",
       "       7.11857258e-11, 4.91870152e-11])"
      ]
     },
     "execution_count": 44,
     "metadata": {},
     "output_type": "execute_result"
    }
   ],
   "source": [
    "cl_null"
   ]
  },
  {
   "cell_type": "code",
   "execution_count": 45,
   "id": "2b222199-131b-4e6a-b51f-29c3d98885ad",
   "metadata": {},
   "outputs": [
    {
     "data": {
      "text/plain": [
       "array([1.51584153e-09, 9.01342331e-10, 5.70083778e-10, 4.11087843e-10,\n",
       "       2.84742903e-10, 1.96748061e-10])"
      ]
     },
     "execution_count": 45,
     "metadata": {},
     "output_type": "execute_result"
    }
   ],
   "source": [
    "cl_multi"
   ]
  },
  {
   "cell_type": "code",
   "execution_count": 46,
   "id": "60fac421-0317-43f3-b768-8f07eb8bb8b0",
   "metadata": {},
   "outputs": [],
   "source": [
    "ratio = cl_multi / cl_null"
   ]
  },
  {
   "cell_type": "code",
   "execution_count": 47,
   "id": "302a7b37-f61d-4f4c-935d-6a160a8428b2",
   "metadata": {},
   "outputs": [
    {
     "data": {
      "text/plain": [
       "array([4., 4., 4., 4., 4., 4.])"
      ]
     },
     "execution_count": 47,
     "metadata": {},
     "output_type": "execute_result"
    }
   ],
   "source": [
    "ratio"
   ]
  },
  {
   "cell_type": "markdown",
   "id": "bbbc977d-2894-4543-a50c-31b23d720329",
   "metadata": {},
   "source": [
    "# Validating our custom HSC multiplicative shear bias module"
   ]
  },
  {
   "cell_type": "code",
   "execution_count": 65,
   "id": "c2649052-ba7e-4734-8b5c-94099ea9f3d0",
   "metadata": {},
   "outputs": [],
   "source": [
    "path_null_hsc = '/global/cscratch1/sd/davidsan/new_firecrown/firecrown/examples/hsc_3x2pt/cosmicshear/multiplicative_shear_bias_validation/cosmicshear-null-multi-hsc/data_vector/'"
   ]
  },
  {
   "cell_type": "code",
   "execution_count": 66,
   "id": "8a90e0f9-0e0b-49c1-b41e-936e8c982f59",
   "metadata": {},
   "outputs": [],
   "source": [
    "path_multi_hsc = '/global/cscratch1/sd/davidsan/new_firecrown/firecrown/examples/hsc_3x2pt/cosmicshear/multiplicative_shear_bias_validation/cosmicshear-multi100-multi-hsc/data_vector'"
   ]
  },
  {
   "cell_type": "code",
   "execution_count": 53,
   "id": "df56b626-10de-4a8b-bc21-e92cb5163798",
   "metadata": {},
   "outputs": [],
   "source": [
    "cl_null_hsc = np.loadtxt(os.path.join(path_null_hsc, 'theory_galaxy_shear_cl_ee_source_2_source_1.txt'))"
   ]
  },
  {
   "cell_type": "code",
   "execution_count": 54,
   "id": "262d61de-7612-4ef3-9045-a21e3423c873",
   "metadata": {},
   "outputs": [],
   "source": [
    "cl_null = np.loadtxt(os.path.join(path_null, 'theory_galaxy_shear_cl_ee_source_2_source_1.txt'))"
   ]
  },
  {
   "cell_type": "code",
   "execution_count": 55,
   "id": "f5aedfbf-978f-435e-a266-df44101cfc30",
   "metadata": {},
   "outputs": [
    {
     "data": {
      "text/plain": [
       "array([1.03423859, 1.03423859, 1.03423859, 1.03423859, 1.03423859,\n",
       "       1.03423859])"
      ]
     },
     "execution_count": 55,
     "metadata": {},
     "output_type": "execute_result"
    }
   ],
   "source": [
    "cl_null_hsc / cl_null"
   ]
  },
  {
   "cell_type": "markdown",
   "id": "4294ad0f-0f83-44fb-9390-d4d391a594ee",
   "metadata": {},
   "source": [
    "# Test 2. Checking between module versions [$C_\\ell$ with null $\\Delta m = 0$ case]\n",
    "\n",
    "In this case, the only difference between implementations:\n",
    "    \n",
    "* Standard multiplicative shear bias -> $C^{ij}_\\ell \\to (1 + \\Delta m)^2 C^{ij}_\\ell$\n",
    "* HSC multiplicative shear bias -> $C^{ij}_\\ell \\to (1 + \\Delta m)^2 (1 + m ^i_{sel} + m^i_R) (1 + m ^j_{sel} + m^j_R) C^{ij}_\\ell$"
   ]
  },
  {
   "cell_type": "code",
   "execution_count": 50,
   "id": "04516c5b-bd53-4b2f-bd08-fa719e639b3a",
   "metadata": {},
   "outputs": [
    {
     "data": {
      "text/plain": [
       "array([3.97446377e-10, 2.36327635e-10, 1.49473232e-10, 1.07785260e-10,\n",
       "       7.46582232e-11, 5.15863976e-11])"
      ]
     },
     "execution_count": 50,
     "metadata": {},
     "output_type": "execute_result"
    }
   ],
   "source": [
    "cl_null_hsc"
   ]
  },
  {
   "cell_type": "code",
   "execution_count": 51,
   "id": "bda9630b-1fc9-4afb-a627-435c9875694f",
   "metadata": {},
   "outputs": [
    {
     "data": {
      "text/plain": [
       "array([1.04878081, 1.04878081, 1.04878081, 1.04878081, 1.04878081,\n",
       "       1.04878081])"
      ]
     },
     "execution_count": 51,
     "metadata": {},
     "output_type": "execute_result"
    }
   ],
   "source": [
    "cl_null_hsc / cl_null"
   ]
  },
  {
   "cell_type": "code",
   "execution_count": 52,
   "id": "32dc4a28-10a1-407e-94bd-2b1449a7c641",
   "metadata": {},
   "outputs": [],
   "source": [
    "cl_null_hsc = np.loadtxt(os.path.join(path_null_hsc, 'theory_galaxy_shear_cl_ee_source_2_source_1.txt'))"
   ]
  },
  {
   "cell_type": "markdown",
   "id": "1d6d630d-9d59-4a3f-b020-1b6ec453a518",
   "metadata": {},
   "source": [
    "# Test 3. HSC Multipl. shear bias [Checkin auto-correlations.]"
   ]
  },
  {
   "cell_type": "code",
   "execution_count": 57,
   "id": "e84e64e3-6e4c-4537-b341-e1ff5be3f663",
   "metadata": {},
   "outputs": [],
   "source": [
    "Delta_m = 1.0"
   ]
  },
  {
   "cell_type": "code",
   "execution_count": 58,
   "id": "05ef867c-cbf3-49fc-8805-d44ecfb2079c",
   "metadata": {},
   "outputs": [
    {
     "name": "stdout",
     "output_type": "stream",
     "text": [
      "Checking auto-correlation (1, 1)\n",
      "Are the input Delta m and the one applied to the Cl the same? [ True  True  True  True  True  True]\n",
      "Checking auto-correlation (2, 2)\n",
      "Are the input Delta m and the one applied to the Cl the same? [ True  True  True  True  True  True]\n",
      "Checking auto-correlation (3, 3)\n",
      "Are the input Delta m and the one applied to the Cl the same? [ True  True  True  True  True  True]\n",
      "Checking auto-correlation (4, 4)\n",
      "Are the input Delta m and the one applied to the Cl the same? [ True  True  True  True  True  True]\n"
     ]
    }
   ],
   "source": [
    "for i in np.arange(4):\n",
    "    print(f'Checking auto-correlation {i+1,i+1}')\n",
    "    # Read Cls generated with HSC module and Delta m = 0\n",
    "    cl_null_hsc = np.loadtxt(os.path.join(path_null_hsc, f'theory_galaxy_shear_cl_ee_source_{i}_source_{i}.txt'))\n",
    "    \n",
    "    # Read Cls generated with HSC module and Delta m = 100, equivalent to Delta m = 1.0 in the standard module\n",
    "    cl_multi_hsc = np.loadtxt(os.path.join(path_multi_hsc, f'theory_galaxy_shear_cl_ee_source_{i}_source_{i}.txt'))\n",
    "    \n",
    "    ratio = cl_multi_hsc/cl_null_hsc\n",
    "    \n",
    "    factor = (1 + Delta_m) ** 2\n",
    "    \n",
    "    print(f'Are the input Delta m and the one applied to the Cl the same? {ratio == factor}')"
   ]
  },
  {
   "cell_type": "code",
   "execution_count": null,
   "id": "4d7122f7-96e0-45a4-afa9-b774d14f42d9",
   "metadata": {},
   "outputs": [],
   "source": []
  },
  {
   "cell_type": "code",
   "execution_count": 116,
   "id": "11c7afc2-284f-4274-b66d-2a7aede7719f",
   "metadata": {},
   "outputs": [],
   "source": [
    "cl_null = np.loadtxt(os.path.join(path_null, 'theory_galaxy_shear_cl_ee_source_2_source_1.txt'))\n",
    "cl_multi_hsc = np.loadtxt(os.path.join(path_multi_hsc, 'theory_galaxy_shear_cl_ee_source_2_source_1.txt'))"
   ]
  },
  {
   "cell_type": "code",
   "execution_count": 117,
   "id": "775c1940-d6e3-4c8c-9f68-f28c8eef024c",
   "metadata": {},
   "outputs": [
    {
     "data": {
      "text/plain": [
       "array([4.13695436, 4.13695436, 4.13695436, 4.13695436, 4.13695436,\n",
       "       4.13695436])"
      ]
     },
     "execution_count": 117,
     "metadata": {},
     "output_type": "execute_result"
    }
   ],
   "source": [
    "cl_multi_hsc / cl_null"
   ]
  },
  {
   "cell_type": "code",
   "execution_count": 118,
   "id": "e563bd17-291c-498b-aa20-154e9e565f48",
   "metadata": {},
   "outputs": [
    {
     "data": {
      "text/plain": [
       "4.13695436"
      ]
     },
     "execution_count": 118,
     "metadata": {},
     "output_type": "execute_result"
    }
   ],
   "source": [
    "(1 + 1) ** 2 * (1 + 0.91/100 + 1.5/100) * (1 + 0.99/100) "
   ]
  },
  {
   "cell_type": "markdown",
   "id": "1c34a17f-0108-461a-b427-cf4915eec327",
   "metadata": {},
   "source": [
    "# Test HSC multipl. shear bias [cross-correlations]\n",
    " \n",
    "Checking that $(1 + m^i_{sel} + m^i_{R}) * (1 + m^j_{sel} + m^j_{R})$ are implemented correctly. To do so we check the ratio\n",
    "\n",
    "Standard module -> $C^{i,j}_\\ell \\to (1+\\Delta m)^2 C^{i,j}_\\ell$ \n",
    "\n",
    "HSC module -> $C^{i,j}_\\ell \\to (1+\\Delta m)^2 (1 + m^i_{sel} + m^i_{R}) * (1 + m^j_{sel} + m^j_{R}) C^{i,j}_\\ell$\n",
    "\n",
    "So the prediction of both modules must differ in $(1 + m^i_{sel} + m^i_{R}) * (1 + m^j_{sel} + m^j_{R})$"
   ]
  },
  {
   "cell_type": "code",
   "execution_count": 129,
   "id": "505565e2-a7a8-4be7-8dbd-04a355e83aba",
   "metadata": {},
   "outputs": [
    {
     "name": "stdout",
     "output_type": "stream",
     "text": [
      "Checking correlation (1, 1)\n",
      "is the (1+msel^i+mR^i)*(1+msel^j+mR^j) recovered? [ True  True  True  True  True  True]\n",
      "Checking correlation (2, 1)\n",
      "is the (1+msel^i+mR^i)*(1+msel^j+mR^j) recovered? [ True  True  True  True  True  True]\n",
      "Checking correlation (3, 1)\n",
      "is the (1+msel^i+mR^i)*(1+msel^j+mR^j) recovered? [ True  True  True  True  True  True]\n",
      "Checking correlation (4, 1)\n",
      "is the (1+msel^i+mR^i)*(1+msel^j+mR^j) recovered? [ True  True  True  True  True  True]\n",
      "Checking correlation (2, 2)\n",
      "is the (1+msel^i+mR^i)*(1+msel^j+mR^j) recovered? [ True  True  True  True  True  True]\n",
      "Checking correlation (3, 2)\n",
      "is the (1+msel^i+mR^i)*(1+msel^j+mR^j) recovered? [ True  True  True  True  True  True]\n",
      "Checking correlation (4, 2)\n",
      "is the (1+msel^i+mR^i)*(1+msel^j+mR^j) recovered? [ True  True  True  True  True  True]\n",
      "Checking correlation (3, 3)\n",
      "is the (1+msel^i+mR^i)*(1+msel^j+mR^j) recovered? [ True  True  True  True  True  True]\n",
      "Checking correlation (4, 3)\n",
      "is the (1+msel^i+mR^i)*(1+msel^j+mR^j) recovered? [ True  True  True  True  True  True]\n",
      "Checking correlation (4, 4)\n",
      "is the (1+msel^i+mR^i)*(1+msel^j+mR^j) recovered? [ True  True  True  True  True  True]\n"
     ]
    }
   ],
   "source": [
    "for i in np.arange(4):\n",
    "    for j in np.arange(i, 4):\n",
    "        \n",
    "        print(f'Checking correlation {j+1,i+1}')\n",
    "        cl_multi = np.loadtxt(os.path.join(path_multi, f'theory_galaxy_shear_cl_ee_source_{j}_source_{i}.txt'))\n",
    "        cl_multi_hsc = np.loadtxt(os.path.join(path_multi_hsc, f'theory_galaxy_shear_cl_ee_source_{j}_source_{i}.txt'))\n",
    "        \n",
    "        if i==0:\n",
    "            m_sel = 0.86/100\n",
    "            m_R = 0.0\n",
    "            factor_i = (1 + m_sel + m_R)\n",
    "            \n",
    "        elif i==1:\n",
    "            m_sel = 0.99/100\n",
    "            m_R = 0.0\n",
    "            factor_i = (1 + m_sel + m_R)\n",
    "            \n",
    "        elif i==2:\n",
    "            m_sel = 0.91/100\n",
    "            m_R = 1.5/100\n",
    "            factor_i = (1 + m_sel + m_R)\n",
    "            \n",
    "        elif i==3:\n",
    "            m_sel = 0.91/100\n",
    "            m_R = 3.0/100\n",
    "            factor_i = (1 + m_sel + m_R)\n",
    "            \n",
    "        if j==0:\n",
    "            m_sel = 0.86/100\n",
    "            m_R = 0.0\n",
    "            factor_j = (1 + m_sel + m_R)\n",
    "            \n",
    "        elif j==1:\n",
    "            m_sel = 0.99/100\n",
    "            m_R = 0.0\n",
    "            factor_j = (1 + m_sel + m_R)\n",
    "            \n",
    "        elif j==2:\n",
    "            m_sel = 0.91/100\n",
    "            m_R = 1.5/100\n",
    "            factor_j = (1 + m_sel + m_R)\n",
    "            \n",
    "        elif j==3:\n",
    "            m_sel = 0.91/100\n",
    "            m_R = 3.0/100\n",
    "            factor_j = (1 + m_sel + m_R)\n",
    "            \n",
    "        ratio = cl_multi_hsc / cl_multi\n",
    "        factor = factor_i * factor_j\n",
    "        \n",
    "        #print(ratio)\n",
    "        #print(factor)\n",
    "        \n",
    "        print(f'is the (1+msel^i+mR^i)*(1+msel^j+mR^j) recovered? {ratio==factor}')"
   ]
  },
  {
   "cell_type": "code",
   "execution_count": 119,
   "id": "45bf4230-488b-49ca-94c0-d6b0eb04dad2",
   "metadata": {},
   "outputs": [],
   "source": [
    "cl_multi = np.loadtxt(os.path.join(path_multi, 'theory_galaxy_shear_cl_ee_source_2_source_1.txt'))\n",
    "cl_multi_hsc = np.loadtxt(os.path.join(path_multi_hsc, 'theory_galaxy_shear_cl_ee_source_2_source_1.txt'))"
   ]
  },
  {
   "cell_type": "code",
   "execution_count": 120,
   "id": "29f90ad8-4e7d-4be4-bda4-b71e9c9be2a8",
   "metadata": {},
   "outputs": [
    {
     "data": {
      "text/plain": [
       "array([1.03423859, 1.03423859, 1.03423859, 1.03423859, 1.03423859,\n",
       "       1.03423859])"
      ]
     },
     "execution_count": 120,
     "metadata": {},
     "output_type": "execute_result"
    }
   ],
   "source": [
    "cl_multi_hsc / cl_multi"
   ]
  },
  {
   "cell_type": "code",
   "execution_count": 121,
   "id": "ca0b6b9c-9335-43ba-9320-b2b6889fceda",
   "metadata": {},
   "outputs": [
    {
     "data": {
      "text/plain": [
       "1.03423859"
      ]
     },
     "execution_count": 121,
     "metadata": {},
     "output_type": "execute_result"
    }
   ],
   "source": [
    "(1 + 0.91/100 + 1.5/100) * (1 + 0.99/100) "
   ]
  },
  {
   "cell_type": "code",
   "execution_count": null,
   "id": "0a809230-ca5f-45ec-9b69-0106b384e3bf",
   "metadata": {},
   "outputs": [],
   "source": []
  }
 ],
 "metadata": {
  "kernelspec": {
   "display_name": "NERSC Python",
   "language": "python",
   "name": "python3"
  },
  "language_info": {
   "codemirror_mode": {
    "name": "ipython",
    "version": 3
   },
   "file_extension": ".py",
   "mimetype": "text/x-python",
   "name": "python",
   "nbconvert_exporter": "python",
   "pygments_lexer": "ipython3",
   "version": "3.9.7"
  }
 },
 "nbformat": 4,
 "nbformat_minor": 5
}
