{
 "cells": [
  {
   "cell_type": "code",
   "execution_count": 1,
   "id": "b0d03d2a-3784-4e14-aa22-9498a03cacb4",
   "metadata": {},
   "outputs": [],
   "source": [
    "import numpy as np\n",
    "import matplotlib.pyplot as plt"
   ]
  },
  {
   "cell_type": "code",
   "execution_count": 3,
   "id": "32e56068-2374-44e9-9cab-e934533e7a31",
   "metadata": {},
   "outputs": [],
   "source": [
    "z = [0.005, 0.015, 0.025, 0.035, 0.045, 0.055, 0.065, 0.075, 0.085, 0.095, 0.105, 0.115,\n",
    "     0.125, 0.135, 0.145, 0.155, 0.165, 0.175, 0.185, 0.195, 0.205, 0.215, 0.225, 0.235,\n",
    "     0.245, 0.255, 0.265, 0.275, 0.285, 0.295, 0.305, 0.315, 0.325, 0.335, 0.345, 0.355,\n",
    "     0.365, 0.375, 0.385, 0.395, 0.405, 0.415, 0.425, 0.435, 0.445, 0.455, 0.465, 0.475,\n",
    "     0.485, 0.495, 0.505, 0.515, 0.525, 0.535, 0.545, 0.555, 0.565, 0.575, 0.585, 0.595,\n",
    "     0.605, 0.615, 0.625, 0.635, 0.645, 0.655, 0.665, 0.675, 0.685, 0.695, 0.705, 0.715,\n",
    "     0.725, 0.735, 0.745, 0.755, 0.765, 0.775, 0.785, 0.795, 0.805, 0.815, 0.825, 0.835,\n",
    "     0.845, 0.855, 0.865, 0.875, 0.885, 0.895, 0.905, 0.915, 0.925, 0.935, 0.945, 0.955,\n",
    "     0.965, 0.975, 0.985, 0.995, 1.005, 1.015, 1.025, 1.035, 1.045, 1.055, 1.065, 1.075,\n",
    "     1.085, 1.095, 1.105, 1.115, 1.125, 1.135, 1.145, 1.155, 1.165, 1.175, 1.185, 1.195,\n",
    "     1.205, 1.215, 1.225, 1.235, 1.245, 1.255, 1.265, 1.275, 1.285, 1.295, 1.305, 1.315,\n",
    "     1.325, 1.335, 1.345, 1.355, 1.365, 1.375, 1.385, 1.395, 1.405, 1.415, 1.425, 1.435,\n",
    "     1.445, 1.455, 1.465, 1.475, 1.485, 1.495, 1.505, 1.515, 1.525, 1.535, 1.545, 1.555,\n",
    "     1.565, 1.575, 1.585, 1.595, 1.605, 1.615, 1.625, 1.635, 1.645, 1.655, 1.665, 1.675,\n",
    "     1.685, 1.695, 1.705, 1.715, 1.725, 1.735, 1.745, 1.755, 1.765, 1.775, 1.785, 1.795,\n",
    "     1.805, 1.815, 1.825, 1.835, 1.845, 1.855, 1.865, 1.875, 1.885, 1.895, 1.905, 1.915,\n",
    "     1.925, 1.935, 1.945, 1.955, 1.965, 1.975, 1.985, 1.995, 2.005, 2.015, 2.025, 2.035,\n",
    "     2.045, 2.055, 2.065, 2.075, 2.085, 2.095, 2.105, 2.115, 2.125, 2.135, 2.145, 2.155,\n",
    "     2.165, 2.175, 2.185, 2.195, 2.205, 2.215, 2.225, 2.235, 2.245, 2.255, 2.265, 2.275,\n",
    "     2.285, 2.295, 2.305, 2.315, 2.325, 2.335, 2.345, 2.355, 2.365, 2.375, 2.385, 2.395,\n",
    "     2.405, 2.415, 2.425, 2.435, 2.445, 2.455, 2.465, 2.475, 2.485, 2.495, 2.505, 2.515,\n",
    "     2.525, 2.535, 2.545, 2.555, 2.565, 2.575, 2.585, 2.595, 2.605, 2.615, 2.625, 2.635,\n",
    "     2.645, 2.655, 2.665, 2.675, 2.685, 2.695, 2.705, 2.715, 2.725, 2.735, 2.745, 2.755,\n",
    "     2.765, 2.775, 2.785, 2.795, 2.805, 2.815, 2.825, 2.835, 2.845, 2.855, 2.865, 2.875,\n",
    "     2.885, 2.895, 2.905, 2.915, 2.925, 2.935, 2.945, 2.955, 2.965, 2.975, 2.985, 2.995]"
   ]
  },
  {
   "cell_type": "code",
   "execution_count": 7,
   "id": "471044ce-68c5-4429-8172-dcac5ca913db",
   "metadata": {},
   "outputs": [],
   "source": [
    "dndz_before = [0.        , 0.        , 0.        , 0.        , 0.        , 0., \n",
    "               0.        , 0.        , 0.        , 0.        , 0.        , 0., \n",
    "               0.        , 0.        , 0.        , 0.        , 0.        , 0., \n",
    "               0.        , 0.        , 0.        , 0.        , 0.        , 0., \n",
    "               0.        , 0.        , 0.        , 0.        , 0.        , 0., \n",
    "               0.        , 0.        , 0.        , 0.        , 0.        , 0., \n",
    "               0.        , 0.        , 0.        , 0.        , 0.        , 0., \n",
    "               0.        , 0.        , 0.        , 0.        , 0.        , 0., \n",
    "               0.        , 0.        , 0.        , 0.        , 0.        , 0., \n",
    "               0.        , 0.        , 0.        , 0.        , 0.        , 0., \n",
    "               0.        , 0.        , 0.        , 0.        , 0.        , 0., \n",
    "               0.        , 0.        , 0.        , 0.        , 0.        , 0., \n",
    "               0.        , 0.        , 0.        , 0.        , 0.        , 0., \n",
    "               0.        , 0.        , 0.        , 0.        , 0.        , 0., \n",
    "               0.        , 0.        , 0.        , 0.        , 0.        , 0., \n",
    "               0.        , 0.        , 0.        , 0.        , 0.        , 0., \n",
    "               0.        , 0.        , 0.        , 0.        , 0.        , 0., \n",
    "               0.        , 0.        , 0.        , 0.        , 0.        , 0., \n",
    "               0.        , 0.        , 0.        , 0.        , 0.        , 0., \n",
    "               0.        , 0.        , 0.        , 0.        , 0.        , 0., \n",
    "               0.05332412, 0.05169423, 0.05041645, 0.0492445 , 0.04776932, 0.04661604, \n",
    "               0.04532048, 0.0443228 , 0.04273114, 0.04039345, 0.03779345, 0.03472483, \n",
    "               0.03224754, 0.02951949, 0.02773932, 0.02668829, 0.0263255 , 0.02640019, \n",
    "               0.02652468, 0.02738631, 0.02756859, 0.02759616, 0.02698084, 0.02606052, \n",
    "               0.02458446, 0.02262289, 0.01935244, 0.01857972, 0.01930975, 0.02016249, \n",
    "               0.        , 0.        , 0.        , 0.        , 0.        , 0., \n",
    "               0.        , 0.        , 0.        , 0.        , 0.        , 0., \n",
    "               0.        , 0.        , 0.        , 0.        , 0.        , 0., \n",
    "               0.        , 0.        , 0.        , 0.        , 0.        , 0., \n",
    "               0.        , 0.        , 0.        , 0.        , 0.        , 0., \n",
    "               0.        , 0.        , 0.        , 0.        , 0.        , 0., \n",
    "               0.        , 0.        , 0.        , 0.        , 0.        , 0., \n",
    "               0.        , 0.        , 0.        , 0.        , 0.        , 0., \n",
    "               0.        , 0.        , 0.        , 0.        , 0.        , 0., \n",
    "               0.        , 0.        , 0.        , 0.        , 0.        , 0., \n",
    "               0.        , 0.        , 0.        , 0.        , 0.        , 0., \n",
    "               0.        , 0.        , 0.        , 0.        , 0.        , 0., \n",
    "               0.        , 0.        , 0.        , 0.        , 0.        , 0., \n",
    "               0.        , 0.        , 0.        , 0.        , 0.        , 0., \n",
    "               0.        , 0.        , 0.        , 0.        , 0.        , 0., \n",
    "               0.        , 0.        , 0.        , 0.        , 0.        , 0., \n",
    "               0.        , 0.        , 0.        , 0.        , 0.        , 0., \n",
    "               0.        , 0.        , 0.        , 0.        , 0.        , 0., \n",
    "               0.        , 0.        , 0.        , 0.        , 0.        , 0., \n",
    "               0.        , 0.        , 0.        , 0.        , 0.        , 0., \n",
    "               0.        , 0.        , 0.        , 0.        , 0.        , 0., \n",
    "               0.        , 0.        , 0.        , 0.        , 0.        , 0., \n",
    "               0.        , 0.        , 0.        , 0.        , 0.        , 0., \n",
    "               0.        , 0.        , 0.        , 0.        , 0.        , 0., \n",
    "               0.        , 0.        , 0.        , 0.        , 0.        , 0.        ]"
   ]
  },
  {
   "cell_type": "code",
   "execution_count": 8,
   "id": "fcd96e7a-4ea9-49f8-baaf-ca1cb83b5331",
   "metadata": {},
   "outputs": [],
   "source": [
    "dndz_after = [0.00000000e+00, 0.00000000e+00, 0.00000000e+00, 0.00000000e+00,\n",
    "              0.00000000e+00, 0.00000000e+00, 0.00000000e+00, 0.00000000e+00,\n",
    "              0.00000000e+00, 0.00000000e+00, 0.00000000e+00, 0.00000000e+00,\n",
    "              0.00000000e+00, 0.00000000e+00, 0.00000000e+00, 0.00000000e+00,\n",
    "              0.00000000e+00, 0.00000000e+00, 0.00000000e+00, 0.00000000e+00,\n",
    "              0.00000000e+00, 0.00000000e+00, 0.00000000e+00, 0.00000000e+00,\n",
    "              0.00000000e+00, 0.00000000e+00, 0.00000000e+00, 0.00000000e+00,\n",
    "              0.00000000e+00, 0.00000000e+00, 0.00000000e+00, 0.00000000e+00,\n",
    "              0.00000000e+00, 0.00000000e+00, 0.00000000e+00, 0.00000000e+00,\n",
    "              0.00000000e+00, 0.00000000e+00, 0.00000000e+00, 0.00000000e+00,\n",
    "              0.00000000e+00, 0.00000000e+00, 0.00000000e+00, 0.00000000e+00,\n",
    "              0.00000000e+00, 0.00000000e+00, 0.00000000e+00, 0.00000000e+00,\n",
    "              0.00000000e+00, 0.00000000e+00, 0.00000000e+00, 0.00000000e+00,\n",
    "              0.00000000e+00, 0.00000000e+00, 0.00000000e+00, 0.00000000e+00,\n",
    "              0.00000000e+00, 0.00000000e+00, 0.00000000e+00, 0.00000000e+00,\n",
    "              0.00000000e+00, 0.00000000e+00, 0.00000000e+00, 0.00000000e+00,\n",
    "              0.00000000e+00, 0.00000000e+00, 0.00000000e+00, 0.00000000e+00,\n",
    "              0.00000000e+00, 0.00000000e+00, 0.00000000e+00, 0.00000000e+00,\n",
    "              0.00000000e+00, 0.00000000e+00, 0.00000000e+00, 0.00000000e+00,\n",
    "              0.00000000e+00, 0.00000000e+00, 0.00000000e+00, 0.00000000e+00,\n",
    "              0.00000000e+00, 0.00000000e+00, 0.00000000e+00, 0.00000000e+00,\n",
    "              0.00000000e+00, 0.00000000e+00, 0.00000000e+00, 0.00000000e+00,\n",
    "              0.00000000e+00, 0.00000000e+00, 0.00000000e+00, 0.00000000e+00,\n",
    "              0.00000000e+00, 0.00000000e+00, 0.00000000e+00, 0.00000000e+00,\n",
    "              0.00000000e+00, 0.00000000e+00, 0.00000000e+00, 0.00000000e+00,\n",
    "              0.00000000e+00, 0.00000000e+00, 0.00000000e+00, 0.00000000e+00,\n",
    "              0.00000000e+00, 0.00000000e+00, 0.00000000e+00, 0.00000000e+00,\n",
    "              0.00000000e+00, 0.00000000e+00, 0.00000000e+00, 0.00000000e+00,\n",
    "              0.00000000e+00, 0.00000000e+00, 0.00000000e+00, 0.00000000e+00,\n",
    "              0.00000000e+00, 0.00000000e+00, 0.00000000e+00, 0.00000000e+00,\n",
    "              0.00000000e+00, 0.00000000e+00, 0.00000000e+00, 0.00000000e+00,\n",
    "              0.00000000e+00, 0.00000000e+00, 0.00000000e+00, 0.00000000e+00,\n",
    "              0.00000000e+00, 0.00000000e+00, 0.00000000e+00, 0.00000000e+00,\n",
    "              0.00000000e+00, 0.00000000e+00, 0.00000000e+00, 0.00000000e+00,\n",
    "              0.00000000e+00, 0.00000000e+00, 0.00000000e+00, 7.94983227e-29,\n",
    "              5.33241213e-02, 5.16942273e-02, 5.04164544e-02, 4.92444957e-02,\n",
    "              4.77693215e-02, 4.66160359e-02, 4.53204791e-02, 4.43228026e-02,\n",
    "              4.27311440e-02, 4.03934509e-02, 3.77934454e-02, 3.47248342e-02,\n",
    "              3.22475376e-02, 2.95194880e-02, 2.77393201e-02, 2.66882919e-02,\n",
    "              2.63255004e-02, 2.64001928e-02, 2.65246800e-02, 2.73863098e-02,\n",
    "              2.75685947e-02, 2.75961597e-02, 2.69808370e-02, 2.60605204e-02,\n",
    "              2.45844571e-02, 2.26228934e-02, 1.93524350e-02, 1.85797248e-02,\n",
    "              1.93097537e-02, 2.01624915e-02, 0.00000000e+00, 0.00000000e+00,\n",
    "              0.00000000e+00, 0.00000000e+00, 0.00000000e+00, 0.00000000e+00,\n",
    "              0.00000000e+00, 0.00000000e+00, 0.00000000e+00, 0.00000000e+00,\n",
    "              0.00000000e+00, 0.00000000e+00, 0.00000000e+00, 0.00000000e+00,\n",
    "              0.00000000e+00, 0.00000000e+00, 0.00000000e+00, 0.00000000e+00,\n",
    "              0.00000000e+00, 0.00000000e+00, 0.00000000e+00, 0.00000000e+00,\n",
    "              0.00000000e+00, 0.00000000e+00, 0.00000000e+00, 0.00000000e+00,\n",
    "              0.00000000e+00, 0.00000000e+00, 0.00000000e+00, 0.00000000e+00,\n",
    "              0.00000000e+00, 0.00000000e+00, 0.00000000e+00, 0.00000000e+00,\n",
    "              0.00000000e+00, 0.00000000e+00, 0.00000000e+00, 0.00000000e+00,\n",
    "              0.00000000e+00, 0.00000000e+00, 0.00000000e+00, 0.00000000e+00,\n",
    "              0.00000000e+00, 0.00000000e+00, 0.00000000e+00, 0.00000000e+00,\n",
    "              0.00000000e+00, 0.00000000e+00, 0.00000000e+00, 0.00000000e+00,\n",
    "              0.00000000e+00, 0.00000000e+00, 0.00000000e+00, 0.00000000e+00,\n",
    "              0.00000000e+00, 0.00000000e+00, 0.00000000e+00, 0.00000000e+00,\n",
    "              0.00000000e+00, 0.00000000e+00, 0.00000000e+00, 0.00000000e+00,\n",
    "              0.00000000e+00, 0.00000000e+00, 0.00000000e+00, 0.00000000e+00,\n",
    "              0.00000000e+00, 0.00000000e+00, 0.00000000e+00, 0.00000000e+00,\n",
    "              0.00000000e+00, 0.00000000e+00, 0.00000000e+00, 0.00000000e+00,\n",
    "              0.00000000e+00, 0.00000000e+00, 0.00000000e+00, 0.00000000e+00,\n",
    "              0.00000000e+00, 0.00000000e+00, 0.00000000e+00, 0.00000000e+00,\n",
    "              0.00000000e+00, 0.00000000e+00, 0.00000000e+00, 0.00000000e+00,\n",
    "              0.00000000e+00, 0.00000000e+00, 0.00000000e+00, 0.00000000e+00,\n",
    "              0.00000000e+00, 0.00000000e+00, 0.00000000e+00, 0.00000000e+00,\n",
    "              0.00000000e+00, 0.00000000e+00, 0.00000000e+00, 0.00000000e+00,\n",
    "              0.00000000e+00, 0.00000000e+00, 0.00000000e+00, 0.00000000e+00,\n",
    "              0.00000000e+00, 0.00000000e+00, 0.00000000e+00, 0.00000000e+00,\n",
    "              0.00000000e+00, 0.00000000e+00, 0.00000000e+00, 0.00000000e+00,\n",
    "              0.00000000e+00, 0.00000000e+00, 0.00000000e+00, 0.00000000e+00,\n",
    "              0.00000000e+00, 0.00000000e+00, 0.00000000e+00, 0.00000000e+00,\n",
    "              0.00000000e+00, 0.00000000e+00, 0.00000000e+00, 0.00000000e+00,\n",
    "              0.00000000e+00, 0.00000000e+00, 0.00000000e+00, 0.00000000e+00,\n",
    "              0.00000000e+00, 0.00000000e+00, 0.00000000e+00, 0.00000000e+00]"
   ]
  },
  {
   "cell_type": "code",
   "execution_count": 11,
   "id": "9bd73279-1e1b-4789-822b-a81e0d0fc439",
   "metadata": {},
   "outputs": [
    {
     "data": {
      "text/plain": [
       "<matplotlib.legend.Legend at 0x15551c2f3cd0>"
      ]
     },
     "execution_count": 11,
     "metadata": {},
     "output_type": "execute_result"
    },
    {
     "data": {
      "image/png": "[encoded data removed]",
      "text/plain": [
       "<Figure size 432x288 with 1 Axes>"
      ]
     },
     "metadata": {
      "needs_background": "light"
     },
     "output_type": "display_data"
    }
   ],
   "source": [
    "plt.plot(z, dndz_before, lw = 2.0)\n",
    "plt.plot(z, dndz_after, lw=2.0, label='shift 0.2')\n",
    "plt.legend()"
   ]
  },
  {
   "cell_type": "code",
   "execution_count": null,
   "id": "98f8f33b-a92f-4329-8b86-66503764d6db",
   "metadata": {},
   "outputs": [],
   "source": []
  }
 ],
 "metadata": {
  "kernelspec": {
   "display_name": "NERSC Python",
   "language": "python",
   "name": "python3"
  },
  "language_info": {
   "codemirror_mode": {
    "name": "ipython",
    "version": 3
   },
   "file_extension": ".py",
   "mimetype": "text/x-python",
   "name": "python",
   "nbconvert_exporter": "python",
   "pygments_lexer": "ipython3",
   "version": "3.9.7"
  }
 },
 "nbformat": 4,
 "nbformat_minor": 5
}
