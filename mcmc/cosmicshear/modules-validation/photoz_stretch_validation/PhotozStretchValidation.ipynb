{
 "cells": [
  {
   "cell_type": "code",
   "execution_count": 1,
   "id": "2d624250-abd7-442c-b6b5-92e48f4102b9",
   "metadata": {},
   "outputs": [],
   "source": [
    "import numpy as np\n",
    "import matplotlib.pyplot as plt"
   ]
  },
  {
   "cell_type": "code",
   "execution_count": 2,
   "id": "1584e4ea-6b49-4ffb-9f5a-d1dddcf01861",
   "metadata": {},
   "outputs": [],
   "source": [
    "z = [0.005, 0.015, 0.025, 0.035, 0.045, 0.055, 0.065, 0.075, 0.085, 0.095, 0.105, 0.115,\n",
    "     0.125, 0.135, 0.145, 0.155, 0.165, 0.175, 0.185, 0.195, 0.205, 0.215, 0.225, 0.235,\n",
    "     0.245, 0.255, 0.265, 0.275, 0.285, 0.295, 0.305, 0.315, 0.325, 0.335, 0.345, 0.355,\n",
    "     0.365, 0.375, 0.385, 0.395, 0.405, 0.415, 0.425, 0.435, 0.445, 0.455, 0.465, 0.475,\n",
    "     0.485, 0.495, 0.505, 0.515, 0.525, 0.535, 0.545, 0.555, 0.565, 0.575, 0.585, 0.595,\n",
    "     0.605, 0.615, 0.625, 0.635, 0.645, 0.655, 0.665, 0.675, 0.685, 0.695, 0.705, 0.715,\n",
    "     0.725, 0.735, 0.745, 0.755, 0.765, 0.775, 0.785, 0.795, 0.805, 0.815, 0.825, 0.835,\n",
    "     0.845, 0.855, 0.865, 0.875, 0.885, 0.895, 0.905, 0.915, 0.925, 0.935, 0.945, 0.955,\n",
    "     0.965, 0.975, 0.985, 0.995, 1.005, 1.015, 1.025, 1.035, 1.045, 1.055, 1.065, 1.075,\n",
    "     1.085, 1.095, 1.105, 1.115, 1.125, 1.135, 1.145, 1.155, 1.165, 1.175, 1.185, 1.195,\n",
    "     1.205, 1.215, 1.225, 1.235, 1.245, 1.255, 1.265, 1.275, 1.285, 1.295, 1.305, 1.315,\n",
    "     1.325, 1.335, 1.345, 1.355, 1.365, 1.375, 1.385, 1.395, 1.405, 1.415, 1.425, 1.435,\n",
    "     1.445, 1.455, 1.465, 1.475, 1.485, 1.495, 1.505, 1.515, 1.525, 1.535, 1.545, 1.555,\n",
    "     1.565, 1.575, 1.585, 1.595, 1.605, 1.615, 1.625, 1.635, 1.645, 1.655, 1.665, 1.675,\n",
    "     1.685, 1.695, 1.705, 1.715, 1.725, 1.735, 1.745, 1.755, 1.765, 1.775, 1.785, 1.795,\n",
    "     1.805, 1.815, 1.825, 1.835, 1.845, 1.855, 1.865, 1.875, 1.885, 1.895, 1.905, 1.915,\n",
    "     1.925, 1.935, 1.945, 1.955, 1.965, 1.975, 1.985, 1.995, 2.005, 2.015, 2.025, 2.035,\n",
    "     2.045, 2.055, 2.065, 2.075, 2.085, 2.095, 2.105, 2.115, 2.125, 2.135, 2.145, 2.155,\n",
    "     2.165, 2.175, 2.185, 2.195, 2.205, 2.215, 2.225, 2.235, 2.245, 2.255, 2.265, 2.275,\n",
    "     2.285, 2.295, 2.305, 2.315, 2.325, 2.335, 2.345, 2.355, 2.365, 2.375, 2.385, 2.395,\n",
    "     2.405, 2.415, 2.425, 2.435, 2.445, 2.455, 2.465, 2.475, 2.485, 2.495, 2.505, 2.515,\n",
    "     2.525, 2.535, 2.545, 2.555, 2.565, 2.575, 2.585, 2.595, 2.605, 2.615, 2.625, 2.635,\n",
    "     2.645, 2.655, 2.665, 2.675, 2.685, 2.695, 2.705, 2.715, 2.725, 2.735, 2.745, 2.755,\n",
    "     2.765, 2.775, 2.785, 2.795, 2.805, 2.815, 2.825, 2.835, 2.845, 2.855, 2.865, 2.875,\n",
    "     2.885, 2.895, 2.905, 2.915, 2.925, 2.935, 2.945, 2.955, 2.965, 2.975, 2.985, 2.995]"
   ]
  },
  {
   "cell_type": "code",
   "execution_count": 3,
   "id": "4c426b56-6a61-4734-8290-2ffd9d71db25",
   "metadata": {},
   "outputs": [],
   "source": [
    "dndz_before = [0.        , 0.        , 0.        , 0.        , 0.        , 0.,\n",
    "               0.        , 0.        , 0.        , 0.        , 0.        , 0.,\n",
    "               0.        , 0.        , 0.        , 0.        , 0.        , 0.,\n",
    "               0.        , 0.        , 0.        , 0.        , 0.        , 0.,\n",
    "               0.        , 0.        , 0.        , 0.        , 0.        , 0.,\n",
    "               0.        , 0.        , 0.        , 0.        , 0.        , 0.,\n",
    "               0.        , 0.        , 0.        , 0.        , 0.        , 0.,\n",
    "               0.        , 0.        , 0.        , 0.        , 0.        , 0.,\n",
    "               0.        , 0.        , 0.        , 0.        , 0.        , 0.,\n",
    "               0.        , 0.        , 0.        , 0.        , 0.        , 0.,\n",
    "               0.        , 0.        , 0.        , 0.        , 0.        , 0.,\n",
    "               0.        , 0.        , 0.        , 0.        , 0.        , 0.,\n",
    "               0.        , 0.        , 0.        , 0.        , 0.        , 0.,\n",
    "               0.        , 0.        , 0.        , 0.        , 0.        , 0.,\n",
    "               0.        , 0.        , 0.        , 0.        , 0.        , 0.,\n",
    "               0.        , 0.        , 0.        , 0.        , 0.        , 0.,\n",
    "               0.        , 0.        , 0.        , 0.        , 0.        , 0.,\n",
    "               0.        , 0.        , 0.        , 0.        , 0.        , 0.,\n",
    "               0.        , 0.        , 0.        , 0.        , 0.        , 0.,\n",
    "               0.        , 0.        , 0.        , 0.        , 0.        , 0.,\n",
    "               0.05332412, 0.05169423, 0.05041645, 0.0492445 , 0.04776932, 0.04661604,\n",
    "               0.04532048, 0.0443228 , 0.04273114, 0.04039345, 0.03779345, 0.03472483,\n",
    "               0.03224754, 0.02951949, 0.02773932, 0.02668829, 0.0263255 , 0.02640019,\n",
    "               0.02652468, 0.02738631, 0.02756859, 0.02759616, 0.02698084, 0.02606052,\n",
    "               0.02458446, 0.02262289, 0.01935244, 0.01857972, 0.01930975, 0.02016249,\n",
    "               0.        , 0.        , 0.        , 0.        , 0.        , 0.,\n",
    "               0.        , 0.        , 0.        , 0.        , 0.        , 0.,\n",
    "               0.        , 0.        , 0.        , 0.        , 0.        , 0.,\n",
    "               0.        , 0.        , 0.        , 0.        , 0.        , 0.,\n",
    "               0.        , 0.        , 0.        , 0.        , 0.        , 0.,\n",
    "               0.        , 0.        , 0.        , 0.        , 0.        , 0.,\n",
    "               0.        , 0.        , 0.        , 0.        , 0.        , 0.,\n",
    "               0.        , 0.        , 0.        , 0.        , 0.        , 0.,\n",
    "               0.        , 0.        , 0.        , 0.        , 0.        , 0.,\n",
    "               0.        , 0.        , 0.        , 0.        , 0.        , 0.,\n",
    "               0.        , 0.        , 0.        , 0.        , 0.        , 0.,\n",
    "               0.        , 0.        , 0.        , 0.        , 0.        , 0.,\n",
    "               0.        , 0.        , 0.        , 0.        , 0.        , 0.,\n",
    "               0.        , 0.        , 0.        , 0.        , 0.        , 0.,\n",
    "               0.        , 0.        , 0.        , 0.        , 0.        , 0.,\n",
    "               0.        , 0.        , 0.        , 0.        , 0.        , 0.,\n",
    "               0.        , 0.        , 0.        , 0.        , 0.        , 0.,\n",
    "               0.        , 0.        , 0.        , 0.        , 0.        , 0.,\n",
    "               0.        , 0.        , 0.        , 0.        , 0.        , 0.,\n",
    "               0.        , 0.        , 0.        , 0.        , 0.        , 0.,\n",
    "               0.        , 0.        , 0.        , 0.        , 0.        , 0.,\n",
    "               0.        , 0.        , 0.        , 0.        , 0.        , 0.,\n",
    "               0.        , 0.        , 0.        , 0.        , 0.        , 0.,\n",
    "               0.        , 0.        , 0.        , 0.        , 0.        , 0.,\n",
    "               0.        , 0.        , 0.        , 0.        , 0.        , 0.        ]"
   ]
  },
  {
   "cell_type": "code",
   "execution_count": 4,
   "id": "7855e2ea-5268-4fc4-b655-f288f87a5087",
   "metadata": {},
   "outputs": [],
   "source": [
    "dndz_after = [0.        , 0.        , 0.        , 0.        , 0.        , 0.,\n",
    "              0.        , 0.        , 0.        , 0.        , 0.        , 0.,\n",
    "              0.        , 0.        , 0.        , 0.        , 0.        , 0.,\n",
    "              0.        , 0.        , 0.        , 0.        , 0.        , 0.,\n",
    "              0.        , 0.        , 0.        , 0.        , 0.        , 0.,\n",
    "              0.        , 0.        , 0.        , 0.        , 0.        , 0.,\n",
    "              0.        , 0.        , 0.        , 0.        , 0.        , 0.,\n",
    "              0.        , 0.        , 0.        , 0.        , 0.        , 0.,\n",
    "              0.        , 0.        , 0.        , 0.        , 0.        , 0.,\n",
    "              0.        , 0.        , 0.        , 0.        , 0.        , 0.,\n",
    "              0.        , 0.        , 0.        , 0.        , 0.        , 0.,\n",
    "              0.        , 0.        , 0.00034503, 0.00821119, 0.02257923, 0.03826911,\n",
    "              0.05010078, 0.05326216, 0.05295587, 0.052606  , 0.05224671, 0.05191217,\n",
    "              0.05163402, 0.05137591, 0.05111668, 0.05085905, 0.05060569, 0.05035944,\n",
    "              0.05012357, 0.04989418, 0.04966533, 0.04943106, 0.04918444, 0.04890202,\n",
    "              0.04859207, 0.04827608, 0.04797549, 0.04771088, 0.04747345, 0.04724791,\n",
    "              0.04702577, 0.04679856, 0.04655794, 0.04630296, 0.0460399 , 0.04577481,\n",
    "              0.04551373, 0.04526368, 0.04504818, 0.04486039, 0.04468065, 0.04448928,\n",
    "              0.0442672 , 0.04401288, 0.04372653, 0.04340369, 0.04303988, 0.04263136,\n",
    "              0.04219313, 0.04173523, 0.04126088, 0.04077332, 0.04027586, 0.03977203,\n",
    "              0.03926098, 0.03874067, 0.03820905, 0.03766226, 0.03706325, 0.03642357,\n",
    "              0.03577729, 0.03515848, 0.0345998 , 0.03408849, 0.03359994, 0.03311963,\n",
    "              0.03263304, 0.03212539, 0.03158418, 0.0310224 , 0.03045909, 0.02991331,\n",
    "              0.02940481, 0.02896159, 0.02858066, 0.02824843, 0.02795133, 0.02767592,\n",
    "              0.02741699, 0.02718005, 0.02697101, 0.0267958 , 0.02665936, 0.02654379,\n",
    "              0.02644576, 0.02637247, 0.02633111, 0.02632771, 0.02633896, 0.0263528,\n",
    "              0.02636871, 0.02638614, 0.0264046 , 0.02642425, 0.026446  , 0.02647078,\n",
    "              0.02649949, 0.02653704, 0.02666711, 0.02687799, 0.02710976, 0.0273025,\n",
    "              0.02740008, 0.02745149, 0.02749269, 0.0275255 , 0.02755177, 0.02757356,\n",
    "              0.02759588, 0.02761511, 0.02762447, 0.02761718, 0.02758579, 0.02751142,\n",
    "              0.02739749, 0.0272566 , 0.02710139, 0.02694407, 0.02678317, 0.02661247,\n",
    "              0.02642847, 0.02622766, 0.02600602, 0.02575038, 0.02546336, 0.0251544,\n",
    "              0.02483294, 0.02450725, 0.02415746, 0.02377775, 0.02337427, 0.02295314,\n",
    "              0.0225135 , 0.02191514, 0.02118231, 0.02042342, 0.0197469 , 0.01925611,\n",
    "              0.0189088 , 0.01866627, 0.0185332 , 0.01851426, 0.01861102, 0.01874981,\n",
    "              0.01889553, 0.01904517, 0.01919577, 0.01934521, 0.01951018, 0.01968932,\n",
    "              0.01987103, 0.02004371, 0.02006402, 0.01718142, 0.01177724, 0.00582191,\n",
    "              0.00128585, 0.        , 0.        , 0.        , 0.        , 0.,\n",
    "              0.        , 0.        , 0.        , 0.        , 0.        , 0.,\n",
    "              0.        , 0.        , 0.        , 0.        , 0.        , 0.,\n",
    "              0.        , 0.        , 0.        , 0.        , 0.        , 0.,\n",
    "              0.        , 0.        , 0.        , 0.        , 0.        , 0.,\n",
    "              0.        , 0.        , 0.        , 0.        , 0.        , 0.,\n",
    "              0.        , 0.        , 0.        , 0.        , 0.        , 0.,\n",
    "              0.        , 0.        , 0.        , 0.        , 0.        , 0.,\n",
    "              0.        , 0.        , 0.        , 0.        , 0.        , 0.,\n",
    "              0.        , 0.        , 0.        , 0.        , 0.        , 0.,\n",
    "              0.        , 0.        , 0.        , 0.        , 0.        , 0.,\n",
    "              0.        , 0.        , 0.        , 0.        , 0.        , 0.,\n",
    "              0.        , 0.        , 0.        , 0.        , 0.        , 0.        ]"
   ]
  },
  {
   "cell_type": "code",
   "execution_count": 5,
   "id": "6cb2de59-768c-4932-8517-1fc99fcbe882",
   "metadata": {},
   "outputs": [
    {
     "data": {
      "text/plain": [
       "<matplotlib.legend.Legend at 0x15551cddd340>"
      ]
     },
     "execution_count": 5,
     "metadata": {},
     "output_type": "execute_result"
    },
    {
     "data": {
      "image/png": "[encoded data removed]",
      "text/plain": [
       "<Figure size 432x288 with 1 Axes>"
      ]
     },
     "metadata": {
      "needs_background": "light"
     },
     "output_type": "display_data"
    }
   ],
   "source": [
    "plt.plot(z, dndz_before, lw=2.0)\n",
    "plt.plot(z, dndz_after, lw=2.0, label='stretch by 0.2')\n",
    "plt.legend()"
   ]
  },
  {
   "cell_type": "code",
   "execution_count": null,
   "id": "eaa977b6-80bf-42eb-ac9d-3122028398e5",
   "metadata": {},
   "outputs": [],
   "source": []
  }
 ],
 "metadata": {
  "kernelspec": {
   "display_name": "NERSC Python",
   "language": "python",
   "name": "python3"
  },
  "language_info": {
   "codemirror_mode": {
    "name": "ipython",
    "version": 3
   },
   "file_extension": ".py",
   "mimetype": "text/x-python",
   "name": "python",
   "nbconvert_exporter": "python",
   "pygments_lexer": "ipython3",
   "version": "3.9.7"
  }
 },
 "nbformat": 4,
 "nbformat_minor": 5
}
