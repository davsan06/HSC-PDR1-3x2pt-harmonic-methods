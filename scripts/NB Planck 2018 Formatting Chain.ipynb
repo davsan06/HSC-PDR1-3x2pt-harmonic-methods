{
 "cells": [
  {
   "cell_type": "code",
   "execution_count": 2,
   "metadata": {},
   "outputs": [],
   "source": [
    "import os\n",
    "import numpy as np"
   ]
  },
  {
   "cell_type": "code",
   "execution_count": 17,
   "metadata": {},
   "outputs": [],
   "source": [
    "# Initialize an empty dictionary named parameters_cmb\n",
    "parameters_cmb = {}\n",
    "parameters_cmb['weight'] = '$weight$'\n",
    "parameters_cmb['like'] = '$like$'\n",
    "# Read the file and store the parameter names in the dictionary\n",
    "# First column is the key, second column is the value\n",
    "with open(fname, 'r') as f:\n",
    "    for line in f:\n",
    "        if line[0] != '#':\n",
    "            key, value = line.split()[:2]\n",
    "            parameters_cmb[key] = f'${value}$'\n",
    "# Add at the beginning of the dictionary the parameter names that are not in the file\n"
   ]
  },
  {
   "cell_type": "code",
   "execution_count": 18,
   "metadata": {},
   "outputs": [
    {
     "data": {
      "text/plain": [
       "{'weight': '$weight$',\n",
       " 'like': '$like$',\n",
       " 'omegabh2': '$\\\\Omega_b$',\n",
       " 'omegach2': '$\\\\Omega_c$',\n",
       " 'theta': '$100\\\\theta_{MC}$',\n",
       " 'tau': '$\\\\tau$',\n",
       " 'logA': '${\\\\rm{ln}}(10^{10}$',\n",
       " 'ns': '$n_s$',\n",
       " 'calPlanck': '$y_{\\\\rm$',\n",
       " 'acib217': '$A^{CIB}_{217}$',\n",
       " 'xi': '$\\\\xi^{tSZ-CIB}$',\n",
       " 'asz143': '$A^{tSZ}_{143}$',\n",
       " 'aps100': '$A^{PS}_{100}$',\n",
       " 'aps143': '$A^{PS}_{143}$',\n",
       " 'aps143217': '$A^{PS}_{143\\\\times217}$',\n",
       " 'aps217': '$A^{PS}_{217}$',\n",
       " 'aksz': '$A^{kSZ}$',\n",
       " 'kgal100': '$A^{{\\\\rm$',\n",
       " 'kgal143': '$A^{{\\\\rm$',\n",
       " 'kgal143217': '$A^{{\\\\rm$',\n",
       " 'kgal217': '$A^{{\\\\rm$',\n",
       " 'galfTE100': '$A^{{\\\\rm$',\n",
       " 'galfTE100143': '$A^{{\\\\rm$',\n",
       " 'galfTE100217': '$A^{{\\\\rm$',\n",
       " 'galfTE143': '$A^{{\\\\rm$',\n",
       " 'galfTE143217': '$A^{{\\\\rm$',\n",
       " 'galfTE217': '$A^{{\\\\rm$',\n",
       " 'cal0': '$c_{100}$',\n",
       " 'cal2': '$c_{217}$',\n",
       " 'H0*': '$H_0$',\n",
       " 'omegal*': '$\\\\Omega_\\\\Lambda$',\n",
       " 'omegam*': '$\\\\Omega_m$',\n",
       " 'omegamh2*': '$\\\\Omega_m$',\n",
       " 'omeganuh2*': '$\\\\Omega_\\\\nu$',\n",
       " 'omegamh3*': '$\\\\Omega_m$',\n",
       " 'sigma8*': '$\\\\sigma_8$',\n",
       " 'S8*': '$S_8$',\n",
       " 's8omegamp5*': '$\\\\sigma_8$',\n",
       " 's8omegamp25*': '$\\\\sigma_8$',\n",
       " 's8h5*': '$\\\\sigma_8/h^{0.5}$',\n",
       " 'rdragh*': '$r_{\\\\rm$',\n",
       " 'rmsdeflect*': '$\\\\langle$',\n",
       " 'zrei*': '$z_{\\\\rm$',\n",
       " 'A*': '$10^9$',\n",
       " 'clamp*': '$10^9$',\n",
       " 'DL40*': '$D_{40}$',\n",
       " 'DL220*': '$D_{220}$',\n",
       " 'DL810*': '$D_{810}$',\n",
       " 'DL1420*': '$D_{1420}$',\n",
       " 'DL2000*': '$D_{2000}$',\n",
       " 'ns02*': '$n_{s,0.002}$',\n",
       " 'yheused*': '$Y_P$',\n",
       " 'YpBBN*': '$Y_P^{\\\\rm{BBN}}$',\n",
       " 'DHBBN*': '$10^5D/H$',\n",
       " 'age*': '${\\\\rm{Age}}/{\\\\rm{Gyr}}$',\n",
       " 'zstar*': '$z_*$',\n",
       " 'rstar*': '$r_*$',\n",
       " 'thetastar*': '$100\\\\theta_*$',\n",
       " 'DAstar*': '$D_{\\\\rm{M}}(z_*)/{\\\\rm{Gpc}}$',\n",
       " 'zdrag*': '$z_{\\\\rm{drag}}$',\n",
       " 'rdrag*': '$r_{\\\\rm{drag}}$',\n",
       " 'kd*': '$k_{\\\\rm$',\n",
       " 'thetad*': '$100\\\\theta_{\\\\rm{D}}$',\n",
       " 'zeq*': '$z_{\\\\rm{eq}}$',\n",
       " 'keq*': '$k_{\\\\rm{eq}}$',\n",
       " 'thetaeq*': '$100\\\\theta_{\\\\rm{eq}}$',\n",
       " 'thetarseq*': '$100\\\\theta_{\\\\rm{s,eq}}$',\n",
       " 'Hubble015*': '$H(0.15)$',\n",
       " 'DM015*': '$D_{\\\\rm{M}}(0.15)$',\n",
       " 'Hubble038*': '$H(0.38)$',\n",
       " 'DM038*': '$D_{\\\\rm{M}}(0.38)$',\n",
       " 'Hubble051*': '$H(0.51)$',\n",
       " 'DM051*': '$D_{\\\\rm{M}}(0.51)$',\n",
       " 'Hubble061*': '$H(0.61)$',\n",
       " 'DM061*': '$D_{\\\\rm{M}}(0.61)$',\n",
       " 'Hubble233*': '$H(2.33)$',\n",
       " 'DM233*': '$D_{\\\\rm{M}}(2.33)$',\n",
       " 'fsigma8z015*': '$f\\\\sigma_8(0.15)$',\n",
       " 'sigma8z015*': '$\\\\sigma_8(0.15)$',\n",
       " 'fsigma8z038*': '$f\\\\sigma_8(0.38)$',\n",
       " 'sigma8z038*': '$\\\\sigma_8(0.38)$',\n",
       " 'fsigma8z051*': '$f\\\\sigma_8(0.51)$',\n",
       " 'sigma8z051*': '$\\\\sigma_8(0.51)$',\n",
       " 'fsigma8z061*': '$f\\\\sigma_8(0.61)$',\n",
       " 'sigma8z061*': '$\\\\sigma_8(0.61)$',\n",
       " 'fsigma8z233*': '$f\\\\sigma_8(2.33)$',\n",
       " 'sigma8z233*': '$\\\\sigma_8(2.33)$',\n",
       " 'f2000_143*': '$f_{2000}^{143}$',\n",
       " 'f2000_x*': '$f_{2000}^{143\\\\times217}$',\n",
       " 'f2000_217*': '$f_{2000}^{217}$',\n",
       " 'chi2_simall*': '$\\\\chi^2_{\\\\rm$',\n",
       " 'chi2_lowl*': '$\\\\chi^2_{\\\\rm$',\n",
       " 'chi2_plik*': '$\\\\chi^2_{\\\\rm$',\n",
       " 'chi2_prior*': '$\\\\chi^2_{\\\\rm$',\n",
       " 'chi2_CMB*': '$\\\\chi^2_{\\\\rm$'}"
      ]
     },
     "execution_count": 18,
     "metadata": {},
     "output_type": "execute_result"
    }
   ],
   "source": [
    "parameters_cmb"
   ]
  },
  {
   "cell_type": "code",
   "execution_count": 8,
   "metadata": {},
   "outputs": [
    {
     "name": "stdout",
     "output_type": "stream",
     "text": [
      "(6125, 95)\n",
      "(6125, 95)\n",
      "(6163, 95)\n",
      "(12288, 95)\n",
      "(6118, 95)\n",
      "(18406, 95)\n",
      "(6091, 95)\n",
      "(24497, 95)\n"
     ]
    }
   ],
   "source": [
    "# hstack four text files into a single file\n",
    "for i in range(1,5):\n",
    "    fname = os.path.join(path, f'base_plikHM_TTTEEE_lowl_lowE_{i}.txt')\n",
    "    data = np.loadtxt(fname)\n",
    "    print(data.shape)\n",
    "    if i == 1:\n",
    "        data_all = data\n",
    "    else:\n",
    "        data_all = np.vstack((data_all, data))\n",
    "    print(data_all.shape)"
   ]
  },
  {
   "cell_type": "code",
   "execution_count": 9,
   "metadata": {},
   "outputs": [],
   "source": [
    "# save the combined data to a single file\n",
    "fname = os.path.join(path, 'base_plikHM_TTTEEE_lowl_lowE.txt')\n",
    "np.savetxt(fname, data_all)"
   ]
  },
  {
   "cell_type": "code",
   "execution_count": null,
   "metadata": {},
   "outputs": [],
   "source": []
  }
 ],
 "metadata": {
  "kernelspec": {
   "display_name": "desc-python-bleed",
   "language": "python",
   "name": "desc-python-bleed"
  },
  "language_info": {
   "codemirror_mode": {
    "name": "ipython",
    "version": 3
   },
   "file_extension": ".py",
   "mimetype": "text/x-python",
   "name": "python",
   "nbconvert_exporter": "python",
   "pygments_lexer": "ipython3",
   "version": "3.10.13"
  }
 },
 "nbformat": 4,
 "nbformat_minor": 2
}
